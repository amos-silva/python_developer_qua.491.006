{
 "cells": [
  {
   "cell_type": "markdown",
   "id": "51d145a5",
   "metadata": {},
   "source": [
    "## Aqui no markdown posso digitar um texto normalmente."
   ]
  },
  {
   "cell_type": "markdown",
   "id": "9c221b48",
   "metadata": {},
   "source": [
    "# Titulo do texto\n",
    "1 Jogo da velha \n",
    "\n",
    "## Sub titulo do texto\n",
    "2 Jogos da velha \n"
   ]
  },
  {
   "cell_type": "markdown",
   "id": "bbba7137",
   "metadata": {},
   "source": [
    "Exemplificar um Código em Python `print(\"Olá Mundo\")`  - USA-SE CRASE `\n"
   ]
  },
  {
   "cell_type": "markdown",
   "id": "a919c7da",
   "metadata": {},
   "source": [
    "Código em Java `System.out.println(\"Olá mundo\");`"
   ]
  },
  {
   "cell_type": "markdown",
   "id": "1a8dbfb6",
   "metadata": {},
   "source": [
    "Código completo em java:\n",
    "(3 ~~~ ou 3 crase ```)\n",
    "~~~Java\n",
    "public class App{\n",
    "    public static void main(String[] args) thows Exception {\n",
    "        System.out.println(\"Olá mundo\");\n",
    "    }\n",
    "}\n",
    "\n",
    "~~~"
   ]
  },
  {
   "cell_type": "code",
   "execution_count": null,
   "id": "2ab0af9e",
   "metadata": {},
   "outputs": [],
   "source": [
    "print(\"Olá Mundo 🤷‍♂️🐍🤷‍♂️\")"
   ]
  },
  {
   "cell_type": "code",
   "execution_count": null,
   "id": "93ee9530",
   "metadata": {},
   "outputs": [],
   "source": [
    "texto = \"Este é um texto - teste\""
   ]
  },
  {
   "cell_type": "markdown",
   "id": "5068121a",
   "metadata": {},
   "source": [
    "Markdown representando um texto"
   ]
  },
  {
   "cell_type": "code",
   "execution_count": null,
   "id": "24aecfac",
   "metadata": {},
   "outputs": [],
   "source": [
    "print(texto)"
   ]
  }
 ],
 "metadata": {
  "kernelspec": {
   "display_name": ".venv",
   "language": "python",
   "name": "python3"
  },
  "language_info": {
   "codemirror_mode": {
    "name": "ipython",
    "version": 3
   },
   "file_extension": ".py",
   "mimetype": "text/x-python",
   "name": "python",
   "nbconvert_exporter": "python",
   "pygments_lexer": "ipython3",
   "version": "3.13.4"
  }
 },
 "nbformat": 4,
 "nbformat_minor": 5
}
